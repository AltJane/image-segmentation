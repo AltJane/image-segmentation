{
 "cells": [
  {
   "cell_type": "code",
   "execution_count": 1,
   "id": "9ae90861",
   "metadata": {},
   "outputs": [],
   "source": [
    "import torch\n",
    "import torch.nn as nn\n",
    "from torch import optim\n",
    "from utils import BasicDataset, count_dice_coeff_torchvision\n",
    "from torch.utils.data import DataLoader, random_split\n",
    "from torchvision.models.segmentation import fcn_resnet50"
   ]
  },
  {
   "cell_type": "code",
   "execution_count": 2,
   "id": "6302b83d",
   "metadata": {},
   "outputs": [],
   "source": [
    "net = fcn_resnet50(num_classes=13)\n",
    "criterion = nn.CrossEntropyLoss()\n",
    "optimizer = optim.RMSprop(net.parameters(), lr=0.0001)"
   ]
  },
  {
   "cell_type": "code",
   "execution_count": 3,
   "id": "e526229f",
   "metadata": {},
   "outputs": [
    {
     "name": "stdout",
     "output_type": "stream",
     "text": [
      "Creating dataset with 8080 examples\n"
     ]
    }
   ],
   "source": [
    "dir_img = \"archive\"\n",
    "dir_mask = \"archive\"\n",
    "img_scale: float = 0.5\n",
    "dataset = BasicDataset(dir_img, dir_mask, img_scale)\n",
    "val_percent = 0.3\n",
    "\n",
    "n_val = int(len(dataset) * val_percent)\n",
    "n_train = len(dataset) - n_val\n",
    "train_set, val_set = random_split(dataset, [n_train, n_val], generator=torch.Generator().manual_seed(0))\n",
    "train_loader = DataLoader(train_set, shuffle=True, batch_size=1)\n",
    "val_loader = DataLoader(val_set, shuffle=False, drop_last=True, batch_size=10)"
   ]
  },
  {
   "cell_type": "code",
   "execution_count": null,
   "id": "148fb01e",
   "metadata": {},
   "outputs": [],
   "source": [
    "for epoch in range(2): \n",
    "    running_loss = 0.0\n",
    "    for i, data in enumerate(train_loader, 0):\n",
    "        inputs, labels = data\n",
    "        optimizer.zero_grad()\n",
    "        outputs = net(inputs)['out']\n",
    "        loss = criterion(outputs, labels)\n",
    "        loss.backward()\n",
    "        optimizer.step()\n",
    "        running_loss += loss.item()\n",
    "        if i%100 == 0:\n",
    "            print(f'[{epoch + 1}, {i + 1:5d}] loss: {running_loss / 2000:.5f}')\n",
    "            running_loss = 0.0"
   ]
  },
  {
   "cell_type": "code",
   "execution_count": 6,
   "id": "aac22e07",
   "metadata": {},
   "outputs": [],
   "source": [
    "torch.save(net.state_dict(), \"model.pt\")"
   ]
  },
  {
   "cell_type": "code",
   "execution_count": null,
   "id": "d5fba836",
   "metadata": {},
   "outputs": [],
   "source": [
    "net = fcn_resnet50(num_classes=13)\n",
    "net.load_state_dict(torch.load(\"model.pt\"))\n",
    "net.eval()\n",
    "count_dice_coeff_torchvision(val_loader, net)"
   ]
  },
  {
   "cell_type": "code",
   "execution_count": null,
   "id": "34b18ab7",
   "metadata": {},
   "outputs": [],
   "source": []
  }
 ],
 "metadata": {
  "kernelspec": {
   "display_name": "Python 3 (ipykernel)",
   "language": "python",
   "name": "python3"
  },
  "language_info": {
   "codemirror_mode": {
    "name": "ipython",
    "version": 3
   },
   "file_extension": ".py",
   "mimetype": "text/x-python",
   "name": "python",
   "nbconvert_exporter": "python",
   "pygments_lexer": "ipython3",
   "version": "3.8.9"
  }
 },
 "nbformat": 4,
 "nbformat_minor": 5
}
